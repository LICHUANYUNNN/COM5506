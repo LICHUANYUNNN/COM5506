{
 "cells": [
  {
   "cell_type": "code",
   "execution_count": 1,
   "metadata": {},
   "outputs": [],
   "source": [
    "import pandas as pd \n",
    "import numpy as np \n",
    "import seaborn as sns\n",
    "from pandas import *\n",
    "from pylab import *"
   ]
  },
  {
   "cell_type": "code",
   "execution_count": 2,
   "metadata": {},
   "outputs": [],
   "source": [
    "from pylab import mpl\n",
    "mpl.rcParams['font.sans-serif'] = ['SimHei'] # 指定默认字体\n",
    "mpl.rcParams['axes.unicode_minus'] = False   # 解决保存图像是负号'-'显示为方块的问题"
   ]
  },
  {
   "cell_type": "code",
   "execution_count": 3,
   "metadata": {},
   "outputs": [],
   "source": [
    "import random\n",
    "import networkx as nx\n",
    "import matplotlib.pyplot as plt\n",
    "import matplotlib.patches\n",
    "%matplotlib inline"
   ]
  },
  {
   "cell_type": "code",
   "execution_count": 4,
   "metadata": {},
   "outputs": [],
   "source": [
    "df = pd.read_csv('perfume_info1.csv', encoding = 'utf8',index_col=0)"
   ]
  },
  {
   "cell_type": "code",
   "execution_count": 5,
   "metadata": {},
   "outputs": [],
   "source": [
    "df[['name','x']] = df['name'].str.split(\"\\r\\r\\r\\r\\n\", expand=True)"
   ]
  },
  {
   "cell_type": "code",
   "execution_count": 6,
   "metadata": {},
   "outputs": [],
   "source": [
    "df['popularity'] = [i.split(\" \")[2] for i in df['rating']]\n",
    "df['rating'] = [i.split(\" \")[0] for i in df['rating']]"
   ]
  },
  {
   "cell_type": "code",
   "execution_count": 7,
   "metadata": {},
   "outputs": [],
   "source": [
    "df['rating'] = [int(float(i)*10) for i in df['rating']]\n",
    "df['popularity'] = [int(i) for i in df['popularity']]"
   ]
  },
  {
   "cell_type": "code",
   "execution_count": 8,
   "metadata": {},
   "outputs": [],
   "source": [
    "df=df[['name','rating','popularity','brand','perfumer','gender','types','scent1','scent2','scent3','scent4','scent5']]"
   ]
  },
  {
   "cell_type": "code",
   "execution_count": 9,
   "metadata": {},
   "outputs": [],
   "source": [
    "freq=[]\n",
    "for i in range(0,len(df)):\n",
    "    a=df['scent1'][i]+' '+df['scent2'][i]+' '+df['scent3'][i]+' '+df['scent4'][i]+' '+df['scent5'][i]\n",
    "    freq.append(a)\n",
    "df['frequency']=freq"
   ]
  },
  {
   "cell_type": "code",
   "execution_count": 10,
   "metadata": {},
   "outputs": [
    {
     "data": {
      "text/plain": [
       "爱马仕     22\n",
       "香奈儿     17\n",
       "迪奥      17\n",
       "娇兰      17\n",
       "宝格丽     14\n",
       "祖玛珑     14\n",
       "圣罗兰      8\n",
       "博柏利      8\n",
       "高田贤三     6\n",
       "浪凡       5\n",
       "Name: brand, dtype: int64"
      ]
     },
     "execution_count": 10,
     "metadata": {},
     "output_type": "execute_result"
    }
   ],
   "source": [
    "brand_common=df['brand'].value_counts(ascending=False).head(10)\n",
    "brand_common"
   ]
  },
  {
   "cell_type": "code",
   "execution_count": 11,
   "metadata": {},
   "outputs": [
    {
     "data": {
      "text/plain": [
       "木质花香调             19\n",
       "花香调               19\n",
       "木质东方调             17\n",
       "柑橘馥奇香调            15\n",
       "花香果香调             13\n",
       "东方花香调             13\n",
       "木质馥奇香调            12\n",
       "辛辣木质调             11\n",
       "花香甘苔调              9\n",
       "绿叶花香调              8\n",
       "水生馥奇香调             7\n",
       "馥奇香调               7\n",
       "辛辣东方调              5\n",
       "东方馥奇香调             5\n",
       "水生花香调              5\n",
       "果香甘苔调              4\n",
       "醛香花香调              4\n",
       "东方美食调              4\n",
       "东方调                3\n",
       "木质甘苔调              3\n",
       "女香                 3\n",
       "男香                 3\n",
       "木质调                2\n",
       "水生木质调              2\n",
       "Honorine Blanc     1\n",
       "None               1\n",
       "花果香美食调             1\n",
       "果香馥奇香调             1\n",
       "绿叶馥奇香调             1\n",
       "柑橘美食调              1\n",
       "甘苔调                1\n",
       "Name: types, dtype: int64"
      ]
     },
     "execution_count": 11,
     "metadata": {},
     "output_type": "execute_result"
    }
   ],
   "source": [
    "types_common=df['types'].value_counts(ascending=False)\n",
    "types_common"
   ]
  },
  {
   "cell_type": "code",
   "execution_count": 12,
   "metadata": {},
   "outputs": [],
   "source": [
    "df['frequency'] = df['frequency'].str.replace('|',' ')\n",
    "freq_common = pd.Series(' '.join(df['frequency']).split()).value_counts(ascending=False).head(20)"
   ]
  },
  {
   "cell_type": "code",
   "execution_count": 13,
   "metadata": {},
   "outputs": [
    {
     "data": {
      "text/plain": [
       "(array([ 0,  1,  2,  3,  4,  5,  6,  7,  8,  9, 10, 11, 12, 13, 14, 15, 16,\n",
       "        17, 18, 19]), <a list of 20 Text xticklabel objects>)"
      ]
     },
     "execution_count": 13,
     "metadata": {},
     "output_type": "execute_result"
    },
    {
     "data": {
      "image/png": "[encoded data removed]",
      "text/plain": [
       "<Figure size 864x288 with 1 Axes>"
      ]
     },
     "metadata": {
      "needs_background": "light"
     },
     "output_type": "display_data"
    }
   ],
   "source": [
    "freq_common.plot(kind = 'bar',title='frequency of ingredients',color='orange',figsize=(12,4))\n",
    "xticks(rotation=45)"
   ]
  },
  {
   "cell_type": "code",
   "execution_count": 14,
   "metadata": {},
   "outputs": [
    {
     "data": {
      "text/plain": [
       "191"
      ]
     },
     "execution_count": 14,
     "metadata": {},
     "output_type": "execute_result"
    }
   ],
   "source": [
    "list_ = set()\n",
    "for s in df['frequency'].str.split(' '):\n",
    "    list_ = set().union(s, list_)\n",
    "len(list_)"
   ]
  },
  {
   "cell_type": "code",
   "execution_count": 15,
   "metadata": {},
   "outputs": [
    {
     "data": {
      "text/html": [
       "<div>\n",
       "<style scoped>\n",
       "    .dataframe tbody tr th:only-of-type {\n",
       "        vertical-align: middle;\n",
       "    }\n",
       "\n",
       "    .dataframe tbody tr th {\n",
       "        vertical-align: top;\n",
       "    }\n",
       "\n",
       "    .dataframe thead th {\n",
       "        text-align: right;\n",
       "    }\n",
       "</style>\n",
       "<table border=\"1\" class=\"dataframe\">\n",
       "  <thead>\n",
       "    <tr style=\"text-align: right;\">\n",
       "      <th></th>\n",
       "      <th>name</th>\n",
       "      <th>rating</th>\n",
       "      <th>popularity</th>\n",
       "      <th>brand</th>\n",
       "      <th>perfumer</th>\n",
       "      <th>gender</th>\n",
       "      <th>types</th>\n",
       "      <th>scent1</th>\n",
       "      <th>scent2</th>\n",
       "      <th>scent3</th>\n",
       "      <th>scent4</th>\n",
       "      <th>scent5</th>\n",
       "      <th>frequency</th>\n",
       "    </tr>\n",
       "  </thead>\n",
       "  <tbody>\n",
       "    <tr>\n",
       "      <th>8</th>\n",
       "      <td>香奈儿 可可小姐</td>\n",
       "      <td>90</td>\n",
       "      <td>1548</td>\n",
       "      <td>香奈儿</td>\n",
       "      <td>Jacques Polge</td>\n",
       "      <td>女香</td>\n",
       "      <td>花香甘苔调</td>\n",
       "      <td>广藿香</td>\n",
       "      <td>橙子</td>\n",
       "      <td>玫瑰</td>\n",
       "      <td>橘子</td>\n",
       "      <td>香柠檬</td>\n",
       "      <td>广藿香 橙子 玫瑰 橘子 香柠檬</td>\n",
       "    </tr>\n",
       "    <tr>\n",
       "      <th>52</th>\n",
       "      <td>香奈儿 邂逅清新（绿邂逅）</td>\n",
       "      <td>86</td>\n",
       "      <td>1387</td>\n",
       "      <td>香奈儿</td>\n",
       "      <td>Jacques Polge</td>\n",
       "      <td>女香</td>\n",
       "      <td>花香甘苔调</td>\n",
       "      <td>柠檬</td>\n",
       "      <td>雪松</td>\n",
       "      <td>凤眼兰</td>\n",
       "      <td>粉红胡椒</td>\n",
       "      <td>广藿香</td>\n",
       "      <td>柠檬 雪松 凤眼兰 粉红胡椒 广藿香</td>\n",
       "    </tr>\n",
       "    <tr>\n",
       "      <th>62</th>\n",
       "      <td>蔻依 水漾玫瑰（绿丝带）</td>\n",
       "      <td>87</td>\n",
       "      <td>906</td>\n",
       "      <td>蔻依</td>\n",
       "      <td>Michel Almairac</td>\n",
       "      <td>女香</td>\n",
       "      <td>花香甘苔调</td>\n",
       "      <td>玫瑰</td>\n",
       "      <td>广藿香</td>\n",
       "      <td>葡萄柚</td>\n",
       "      <td>香橼</td>\n",
       "      <td>雪松</td>\n",
       "      <td>玫瑰 广藿香 葡萄柚 香橼 雪松</td>\n",
       "    </tr>\n",
       "    <tr>\n",
       "      <th>108</th>\n",
       "      <td>香奈儿 邂逅（黄邂逅）</td>\n",
       "      <td>85</td>\n",
       "      <td>746</td>\n",
       "      <td>香奈儿</td>\n",
       "      <td>Jacques Polge</td>\n",
       "      <td>女香</td>\n",
       "      <td>花香甘苔调</td>\n",
       "      <td>柠檬</td>\n",
       "      <td>广藿香</td>\n",
       "      <td>粉红胡椒</td>\n",
       "      <td>菠萝</td>\n",
       "      <td>茉莉</td>\n",
       "      <td>柠檬 广藿香 粉红胡椒 菠萝 茉莉</td>\n",
       "    </tr>\n",
       "    <tr>\n",
       "      <th>122</th>\n",
       "      <td>迪奥小姐</td>\n",
       "      <td>85</td>\n",
       "      <td>527</td>\n",
       "      <td>迪奥</td>\n",
       "      <td>Francois Demachy</td>\n",
       "      <td>女香</td>\n",
       "      <td>花香甘苔调</td>\n",
       "      <td>广藿香</td>\n",
       "      <td>橘子</td>\n",
       "      <td>茉莉</td>\n",
       "      <td>玫瑰</td>\n",
       "      <td>麝香</td>\n",
       "      <td>广藿香 橘子 茉莉 玫瑰 麝香</td>\n",
       "    </tr>\n",
       "    <tr>\n",
       "      <th>136</th>\n",
       "      <td>爱马仕 法布街24号</td>\n",
       "      <td>87</td>\n",
       "      <td>351</td>\n",
       "      <td>爱马仕</td>\n",
       "      <td>Maurice Roucel</td>\n",
       "      <td>女香</td>\n",
       "      <td>花香甘苔调</td>\n",
       "      <td>橙花</td>\n",
       "      <td>栀子花</td>\n",
       "      <td>琥珀</td>\n",
       "      <td>风信子</td>\n",
       "      <td>茉莉</td>\n",
       "      <td>橙花 栀子花 琥珀 风信子 茉莉</td>\n",
       "    </tr>\n",
       "    <tr>\n",
       "      <th>181</th>\n",
       "      <td>宝缇嘉 同名</td>\n",
       "      <td>87</td>\n",
       "      <td>181</td>\n",
       "      <td>宝缇嘉</td>\n",
       "      <td>Michel Almairac</td>\n",
       "      <td>女香</td>\n",
       "      <td>花香甘苔调</td>\n",
       "      <td>皮革</td>\n",
       "      <td>橡木苔</td>\n",
       "      <td>广藿香</td>\n",
       "      <td>粉红胡椒</td>\n",
       "      <td>茉莉</td>\n",
       "      <td>皮革 橡木苔 广藿香 粉红胡椒 茉莉</td>\n",
       "    </tr>\n",
       "    <tr>\n",
       "      <th>182</th>\n",
       "      <td>娇兰 一千零一夜绽放（初次）</td>\n",
       "      <td>85</td>\n",
       "      <td>209</td>\n",
       "      <td>娇兰</td>\n",
       "      <td>Thierry Wasser</td>\n",
       "      <td>女香</td>\n",
       "      <td>花香甘苔调</td>\n",
       "      <td>鸢尾花</td>\n",
       "      <td>香草</td>\n",
       "      <td>焦糖</td>\n",
       "      <td>广藿香</td>\n",
       "      <td>零陵香豆</td>\n",
       "      <td>鸢尾花 香草 焦糖 广藿香 零陵香豆</td>\n",
       "    </tr>\n",
       "    <tr>\n",
       "      <th>186</th>\n",
       "      <td>汤姆·福特 白色广藿香</td>\n",
       "      <td>85</td>\n",
       "      <td>187</td>\n",
       "      <td>汤姆·福特</td>\n",
       "      <td>Givaudan</td>\n",
       "      <td>女香</td>\n",
       "      <td>花香甘苔调</td>\n",
       "      <td>广藿香</td>\n",
       "      <td>白色花系</td>\n",
       "      <td>芫荽</td>\n",
       "      <td>牡丹</td>\n",
       "      <td>黄葵</td>\n",
       "      <td>广藿香 白色花系 芫荽 牡丹 黄葵</td>\n",
       "    </tr>\n",
       "  </tbody>\n",
       "</table>\n",
       "</div>"
      ],
      "text/plain": [
       "               name  rating  popularity  brand          perfumer gender  \\\n",
       "8          香奈儿 可可小姐      90        1548    香奈儿     Jacques Polge     女香   \n",
       "52    香奈儿 邂逅清新（绿邂逅）      86        1387    香奈儿     Jacques Polge     女香   \n",
       "62     蔻依 水漾玫瑰（绿丝带）      87         906     蔻依   Michel Almairac     女香   \n",
       "108     香奈儿 邂逅（黄邂逅）      85         746    香奈儿     Jacques Polge     女香   \n",
       "122            迪奥小姐      85         527     迪奥  Francois Demachy     女香   \n",
       "136      爱马仕 法布街24号      87         351    爱马仕    Maurice Roucel     女香   \n",
       "181          宝缇嘉 同名      87         181    宝缇嘉   Michel Almairac     女香   \n",
       "182  娇兰 一千零一夜绽放（初次）      85         209     娇兰    Thierry Wasser     女香   \n",
       "186     汤姆·福特 白色广藿香      85         187  汤姆·福特          Givaudan     女香   \n",
       "\n",
       "     types scent1 scent2 scent3 scent4 scent5           frequency  \n",
       "8    花香甘苔调    广藿香     橙子     玫瑰     橘子    香柠檬    广藿香 橙子 玫瑰 橘子 香柠檬  \n",
       "52   花香甘苔调     柠檬     雪松    凤眼兰   粉红胡椒    广藿香  柠檬 雪松 凤眼兰 粉红胡椒 广藿香  \n",
       "62   花香甘苔调     玫瑰    广藿香    葡萄柚     香橼     雪松    玫瑰 广藿香 葡萄柚 香橼 雪松  \n",
       "108  花香甘苔调     柠檬    广藿香   粉红胡椒     菠萝     茉莉   柠檬 广藿香 粉红胡椒 菠萝 茉莉  \n",
       "122  花香甘苔调    广藿香     橘子     茉莉     玫瑰     麝香     广藿香 橘子 茉莉 玫瑰 麝香  \n",
       "136  花香甘苔调     橙花    栀子花     琥珀    风信子     茉莉    橙花 栀子花 琥珀 风信子 茉莉  \n",
       "181  花香甘苔调     皮革    橡木苔    广藿香   粉红胡椒     茉莉  皮革 橡木苔 广藿香 粉红胡椒 茉莉  \n",
       "182  花香甘苔调    鸢尾花     香草     焦糖    广藿香   零陵香豆  鸢尾花 香草 焦糖 广藿香 零陵香豆  \n",
       "186  花香甘苔调    广藿香   白色花系     芫荽     牡丹     黄葵   广藿香 白色花系 芫荽 牡丹 黄葵  "
      ]
     },
     "execution_count": 15,
     "metadata": {},
     "output_type": "execute_result"
    }
   ],
   "source": [
    "a=df[df['types']==u'\\u82b1\\u9999\\u7518\\u82d4\\u8c03']\n",
    "aaa = pd.Series(' '.join(a['frequency']).split()).value_counts(ascending=False).head(20)\n",
    "a"
   ]
  },
  {
   "cell_type": "code",
   "execution_count": 16,
   "metadata": {},
   "outputs": [
    {
     "data": {
      "text/plain": [
       "101"
      ]
     },
     "execution_count": 16,
     "metadata": {},
     "output_type": "execute_result"
    }
   ],
   "source": [
    "aaa=df[df['gender']=='女香']\n",
    "len(aaa)"
   ]
  },
  {
   "cell_type": "code",
   "execution_count": 17,
   "metadata": {},
   "outputs": [],
   "source": [
    "female_common = pd.Series(' '.join(aaa['frequency']).split()).value_counts(ascending=False)"
   ]
  },
  {
   "cell_type": "code",
   "execution_count": 18,
   "metadata": {},
   "outputs": [
    {
     "data": {
      "text/plain": [
       "136"
      ]
     },
     "execution_count": 18,
     "metadata": {},
     "output_type": "execute_result"
    }
   ],
   "source": [
    "len(female_common)"
   ]
  },
  {
   "cell_type": "code",
   "execution_count": 19,
   "metadata": {},
   "outputs": [
    {
     "data": {
      "text/plain": [
       "60"
      ]
     },
     "execution_count": 19,
     "metadata": {},
     "output_type": "execute_result"
    }
   ],
   "source": [
    "aaa=df[df['gender']=='男香']\n",
    "len(aaa)"
   ]
  },
  {
   "cell_type": "code",
   "execution_count": 21,
   "metadata": {
    "scrolled": false
   },
   "outputs": [],
   "source": [
    "# df[df['x'].str.contains('Rouge Eau')]"
   ]
  },
  {
   "cell_type": "markdown",
   "metadata": {},
   "source": [
    "# scent"
   ]
  },
  {
   "cell_type": "code",
   "execution_count": 20,
   "metadata": {},
   "outputs": [],
   "source": [
    "G=nx.Graph()\n",
    "for i in range(len(df)):\n",
    "    G.add_node(df['name'][i],rating=int(df['rating'][i]),popularity=int(df['popularity'][i]),gender=df['gender'][i],brand=df['brand'][i],types=df['types'][i])"
   ]
  },
  {
   "cell_type": "code",
   "execution_count": 21,
   "metadata": {},
   "outputs": [],
   "source": [
    "for i in range(len(df)):\n",
    "    for j in range(i+1,len(df)):\n",
    "        for a in range(1,6):\n",
    "            for b in range(1,6):\n",
    "                if df['scent'+str(a)][i]!=\"None\":\n",
    "                    if df['scent'+str(b)][i]!=\"None\":\n",
    "                        if df['scent'+str(a)][i]==df['scent'+str(b)][j]:\n",
    "                            if (df['name'][i], df['name'][j]) in G.edges():\n",
    "                                data = G.get_edge_data(df['name'][i], df['name'][j])\n",
    "                                G.add_edge(df['name'][i], df['name'][j], weight=data['weight']+1)\n",
    "                            else:\n",
    "                                G.add_edge(df['name'][i], df['name'][j], weight=1)"
   ]
  },
  {
   "cell_type": "code",
   "execution_count": 22,
   "metadata": {},
   "outputs": [],
   "source": [
    "edgewidth = [d['weight'] for (u,v,d) in G.edges(data=True)]"
   ]
  },
  {
   "cell_type": "code",
   "execution_count": 23,
   "metadata": {},
   "outputs": [
    {
     "name": "stdout",
     "output_type": "stream",
     "text": [
      "4\n",
      "4\n",
      "5\n",
      "4\n",
      "4\n"
     ]
    }
   ],
   "source": [
    "for i in edgewidth:\n",
    "    if i >=4:\n",
    "        print(i)"
   ]
  },
  {
   "cell_type": "code",
   "execution_count": 24,
   "metadata": {},
   "outputs": [
    {
     "data": {
      "text/plain": [
       "(array([ 5., 12., 21., 40., 22., 24., 36., 24., 10.,  6.]),\n",
       " array([ 13. ,  23.5,  34. ,  44.5,  55. ,  65.5,  76. ,  86.5,  97. ,\n",
       "        107.5, 118. ]),\n",
       " <a list of 10 Patch objects>)"
      ]
     },
     "execution_count": 24,
     "metadata": {},
     "output_type": "execute_result"
    },
    {
     "data": {
      "image/png": "[encoded data removed]",
      "text/plain": [
       "<Figure size 432x288 with 1 Axes>"
      ]
     },
     "metadata": {
      "needs_background": "light"
     },
     "output_type": "display_data"
    }
   ],
   "source": [
    "degree=dict(nx.degree(G))\n",
    "plt.hist(degree.values(),facecolor='green',alpha=0.5)"
   ]
  },
  {
   "cell_type": "code",
   "execution_count": 26,
   "metadata": {},
   "outputs": [
    {
     "data": {
      "text/plain": [
       "0.5441981730444372"
      ]
     },
     "execution_count": 26,
     "metadata": {},
     "output_type": "execute_result"
    }
   ],
   "source": [
    "nx.transitivity(G)"
   ]
  },
  {
   "cell_type": "code",
   "execution_count": null,
   "metadata": {},
   "outputs": [],
   "source": []
  },
  {
   "cell_type": "code",
   "execution_count": null,
   "metadata": {},
   "outputs": [],
   "source": [
    "#nx.write_edgelist(G, './a.txt', comments='#', delimiter=' ', data=True, encoding='utf-8')\n",
    "nx.write_gexf(G,'graph_with_features.gexf')"
   ]
  },
  {
   "cell_type": "code",
   "execution_count": null,
   "metadata": {},
   "outputs": [],
   "source": []
  }
 ],
 "metadata": {
  "kernelspec": {
   "display_name": "Python 3",
   "language": "python",
   "name": "python3"
  },
  "language_info": {
   "codemirror_mode": {
    "name": "ipython",
    "version": 3
   },
   "file_extension": ".py",
   "mimetype": "text/x-python",
   "name": "python",
   "nbconvert_exporter": "python",
   "pygments_lexer": "ipython3",
   "version": "3.7.1"
  }
 },
 "nbformat": 4,
 "nbformat_minor": 2
}
